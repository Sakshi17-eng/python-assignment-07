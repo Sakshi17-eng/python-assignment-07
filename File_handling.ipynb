{
  "nbformat": 4,
  "nbformat_minor": 0,
  "metadata": {
    "colab": {
      "provenance": []
    },
    "kernelspec": {
      "name": "python3",
      "display_name": "Python 3"
    },
    "language_info": {
      "name": "python"
    }
  },
  "cells": [
    {
      "cell_type": "markdown",
      "source": [
        "## **Theoretical Questions**"
      ],
      "metadata": {
        "id": "LNNF92sIxIer"
      }
    },
    {
      "cell_type": "markdown",
      "source": [
        "### 01.What is the difference between interpreted and compiled languages?\n",
        "Interpreted vs. Compiled Languages: Interpreted languages execute code line by line, translating and running each instruction as it goes. Think of it like having a translator read a speech aloud in real-time. Compiled languages, on the other hand, translate the entire code into machine code beforehand, creating an executable file. This is like having the entire speech translated and recorded so it can be played directly. Interpreted languages offer more flexibility and easier debugging, while compiled languages generally boast faster execution speeds.\n",
        "\n"
      ],
      "metadata": {
        "id": "PjdivV07qwLb"
      }
    },
    {
      "cell_type": "markdown",
      "source": [
        "###02.What is exception handling in Python?\n",
        " Exception handling is a mechanism in Python to gracefully manage errors that occur during program execution. When an unexpected event (an exception) arises, instead of the program crashing, exception handling allows you to detect and respond to it. This involves using try, except blocks to enclose code that might raise errors and specify how to handle those specific errors, ensuring the program can continue running smoothly."
      ],
      "metadata": {
        "id": "w2E7TyserCwS"
      }
    },
    {
      "cell_type": "markdown",
      "source": [
        "###03.What is the purpose of the finally block in exception handling\n",
        "The finally block in Python's exception handling is designed to contain code that will always be executed, regardless of whether an exception occurred in the try block or not. This makes it ideal for cleanup operations, such as closing files or releasing resources, ensuring these essential actions are performed even if an error interrupts the normal flow of the program."
      ],
      "metadata": {
        "id": "ZJGr8tp-rS8o"
      }
    },
    {
      "cell_type": "markdown",
      "source": [
        "###04. What is logging in Python\n",
        "Logging in Python is a way to track events that occur during the execution of your software. The logging module provides a flexible system to record messages of varying severity, from informational messages to critical errors. This is invaluable for debugging, monitoring application behavior, and understanding the sequence of events, especially in complex or long-running applications."
      ],
      "metadata": {
        "id": "B2-hGJhHrmbY"
      }
    },
    {
      "cell_type": "markdown",
      "source": [
        "###05 What is the significance of the __del__ method in Python\n",
        "The __del__ method is a special method in Python classes that is called when an object is about to be garbage collected (destroyed). Its intended purpose is to perform final cleanup operations specific to that object, such as releasing external resources it might have acquired. However, reliance on __del__ is generally discouraged due to its unpredictable timing and potential for causing issues if exceptions occur within it."
      ],
      "metadata": {
        "id": "-aUWgtsor25H"
      }
    },
    {
      "cell_type": "markdown",
      "source": [
        "###06 What is the difference between import and from ... import in Python?\n",
        "The import statement brings an entire module into your current namespace. You then access items within that module using the module name as a prefix (e.g., math.sqrt()). The from ... import statement allows you to import specific names (functions, classes, variables) directly into your current namespace, so you can use them without the module prefix (e.g., sqrt())."
      ],
      "metadata": {
        "id": "DCelyYSxsISa"
      }
    },
    {
      "cell_type": "markdown",
      "source": [
        "###07.How can you handle multiple exceptions in Python?\n",
        "Python allows you to handle multiple different types of exceptions using multiple except blocks. Each except block can specify a particular exception type (or a tuple of exception types) to catch. This enables you to implement different error-handling logic based on the specific issue that occurred, making your error management more precise and robust.\n",
        "\n"
      ],
      "metadata": {
        "id": "K8ob2TPPsXw4"
      }
    },
    {
      "cell_type": "markdown",
      "source": [
        "###08. What is the purpose of the with statement when handling files in Python?\n",
        " The with statement in Python, when used with file handling (and other context managers), provides a clean and reliable way to manage resources. It ensures that the file is automatically closed after the block of code within the with statement is executed, even if exceptions occur. This eliminates the need for explicit file.close() calls and helps prevent resource leaks."
      ],
      "metadata": {
        "id": "Ujv8n1KSszji"
      }
    },
    {
      "cell_type": "markdown",
      "source": [
        "###09. What is the difference between multithreading and multiprocessing?\n",
        "Multithreading involves running multiple threads within a single process, sharing the same memory space. This can be useful for I/O-bound tasks but can be limited by the Global Interpreter Lock (GIL) in CPython for CPU-bound tasks. Multiprocessing, on the other hand, involves creating and running multiple independent processes, each with its own memory space. This is often more effective for CPU-bound tasks as it can truly leverage multiple CPU cores."
      ],
      "metadata": {
        "id": "TDDItrbXtbhc"
      }
    },
    {
      "cell_type": "markdown",
      "source": [
        "###10. What are the advantages of using logging in a program?\n",
        "Employing logging in a program offers several key benefits. It provides a structured way to record events for debugging and monitoring. You can categorize messages by severity, allowing you to filter and focus on critical issues. Logs can be directed to various outputs (console, files, network), and they provide a historical record of the program's execution, which is invaluable for understanding past behavior and diagnosing problems."
      ],
      "metadata": {
        "id": "jloUrwDJtp-G"
      }
    },
    {
      "cell_type": "markdown",
      "source": [
        "###11.What is memory management in Python?\n",
        "Python employs automatic memory management through a private heap containing all Python objects and data structures. The Python memory manager handles the allocation and deallocation of memory. It uses techniques like reference counting (keeping track of how many references point to an object) and a garbage collector (identifying and reclaiming memory occupied by objects no longer in use) to manage memory efficiently, relieving the programmer from manual memory management tasks."
      ],
      "metadata": {
        "id": "1b4GvP-AuCTO"
      }
    },
    {
      "cell_type": "markdown",
      "source": [
        "###12.What are the basic steps involved in exception handling in Python?\n",
        "The fundamental steps in Python exception handling involve: identifying the code that might raise an exception and enclosing it within a try block. Then, you define one or more except blocks to specify how to handle particular exception types that might occur in the try block. Optionally, you can include an else block that executes if no exceptions were raised in the try block, and a finally block for code that always runs."
      ],
      "metadata": {
        "id": "6j2Q7JARuXpH"
      }
    },
    {
      "cell_type": "markdown",
      "source": [
        "###13. Why is memory management important in Python?\n",
        "Effective memory management is crucial in Python (and any programming language) to ensure that programs run efficiently and reliably. Without it, memory leaks (where memory is allocated but never freed) can occur, leading to increased memory consumption and eventually program crashes. Python's automatic memory management aims to prevent these issues, allowing developers to focus on the logic of their applications rather than low-level memory details."
      ],
      "metadata": {
        "id": "saxoCuuCuuu8"
      }
    },
    {
      "cell_type": "markdown",
      "source": [
        "###14. What is the role of try and except in exception handling?\n",
        "The try block in Python's exception handling mechanism is used to enclose the code that might potentially raise an exception (an error). The interpreter first executes the code within the try block. If an exception occurs during this execution, the normal flow of the program is interrupted, and Python looks for a matching except block to handle that specific type of exception. The except block then contains the code that will be executed if the anticipated exception occurs, allowing the program to respond gracefully instead of crashing."
      ],
      "metadata": {
        "id": "tM9cXBCpu50V"
      }
    },
    {
      "cell_type": "markdown",
      "source": [
        "###15. How does Python's garbage collection system work?\n",
        " Python employs an automatic garbage collection system to manage memory. It primarily uses reference counting, where each object maintains a count of how many references point to it. When an object's reference count drops to zero, it's automatically deallocated. Additionally, Python has a cyclic garbage collector that identifies and reclaims memory occupied by objects involved in reference cycles (where objects refer to each other, preventing their reference counts from ever reaching zero). This combination helps prevent memory leaks."
      ],
      "metadata": {
        "id": "6N6eErS5viBC"
      }
    },
    {
      "cell_type": "markdown",
      "source": [
        "###16.What is the purpose of the else block in exception handling?\n",
        "The optional else block in a try...except statement is executed only if the try block completes without raising any exceptions. It provides a way to separate the code that might raise an exception from the code that should only run if the initial operations were successful. This can improve code clarity by isolating the \"happy path\" from the error handling logic."
      ],
      "metadata": {
        "id": "7pDZJ0Luvruf"
      }
    },
    {
      "cell_type": "markdown",
      "source": [
        "###17.What are the common logging levels in Python?\n",
        "Python's logging module defines several standard logging levels to indicate the severity of a logged event. These levels, in increasing order of severity, are: DEBUG (detailed information, typically used for debugging), INFO (general information about program execution), WARNING (indication that something unexpected happened, or indicative of some problem in the near future), ERROR (more serious problem, the software has not been able to perform some function), and CRITICAL (a serious error, indicating that the program itself may be unable to continue running)."
      ],
      "metadata": {
        "id": "8v1pdJjNvywa"
      }
    },
    {
      "cell_type": "markdown",
      "source": [
        "###18.What is the difference between os.fork() and multiprocessing in Python?\n",
        "os.fork() is a low-level system call (primarily available on Unix-like systems) that creates a new process by duplicating the existing one. The child process inherits most of the parent's resources, including memory space (though often copy-on-write). The multiprocessing module in Python provides a higher-level, platform-independent way to create and manage processes. It typically involves creating new Python interpreter processes, giving each process its own memory space, which helps avoid issues with shared state and the Global Interpreter Lock"
      ],
      "metadata": {
        "id": "mEUDF1ogv7Qd"
      }
    },
    {
      "cell_type": "markdown",
      "source": [
        "### 19.What is the importance of closing a file in Python?\n",
        "Closing a file in Python is crucial for several reasons. When you open a file for writing, data might be buffered in memory and not immediately written to disk. Closing the file flushes these buffers, ensuring all changes are saved. Furthermore, operating systems often limit the number of files a process can have open simultaneously. Failing to close files can lead to resource exhaustion and errors. Using the with statement is the recommended way to handle files as it automatically ensures they are closed."
      ],
      "metadata": {
        "id": "rW3jToVjwCYe"
      }
    },
    {
      "cell_type": "markdown",
      "source": [
        "###20.What is the difference between file.read() and file.readline() in Python?\n",
        " Both file.read() and file.readline() are used to read data from a file object in Python, but they behave differently. file.read() reads the entire content of the file as a single string. If a size argument is provided, it reads at most that many bytes. file.readline() reads a single line from the file, including the newline character at the end of the line (if present). Subsequent calls to file.readline() will read the next line."
      ],
      "metadata": {
        "id": "sLJPfrn7wK63"
      }
    },
    {
      "cell_type": "markdown",
      "source": [
        "###21.What is the logging module in Python used for?\n",
        "The logging module in Python provides a flexible and powerful system for tracking events that occur during the execution of a program. It allows developers to record messages about the program's behavior, ranging from informational messages to critical errors. These logs can be invaluable for debugging, monitoring application health, understanding user interactions, and analyzing system performance over time. The module offers different logging levels, handlers (to direct logs to various outputs), and formatters to customize log messages."
      ],
      "metadata": {
        "id": "4d0GEHYSwQST"
      }
    },
    {
      "cell_type": "markdown",
      "source": [
        "###22.What is the os module in Python used for in file handling?\n",
        "The os module in Python provides a way to interact with the operating system, and it includes several functions relevant to file handling. It allows you to perform operations such as creating, renaming, and deleting files and directories (os.mkdir(), os.rename(), os.remove(), os.rmdir()). It also provides functions for navigating the file system (os.chdir(), os.getcwd()), checking file existence and properties (os.path.exists(), os.path.getsize()), and joining path components (os.path.join())"
      ],
      "metadata": {
        "id": "golJqeeawYkf"
      }
    },
    {
      "cell_type": "markdown",
      "source": [
        "###23.What are the challenges associated with memory management in Python?\n",
        "While Python's automatic memory management simplifies development, it also presents some challenges. The garbage collector can introduce performance overhead as it periodically runs to reclaim memory. Reference cycles might not be immediately collected by the reference counting mechanism alone, requiring the cyclic garbage collector to step in. Additionally, for memory-intensive applications, understanding how Python manages memory is still important to avoid excessive memory usage and potential performance bottlenecks."
      ],
      "metadata": {
        "id": "bLOxhVHawgD_"
      }
    },
    {
      "cell_type": "markdown",
      "source": [
        "###24.How do you raise an exception manually in Python?\n",
        "You can raise an exception manually in Python using the raise statement. To do this, you specify the exception class you want to raise (e.g., ValueError, TypeError) and optionally provide an argument that gives more details about the error. For example, raise ValueError(\"Invalid input provided\") will explicitly raise a ValueError with the associated message. This is useful for signaling specific error conditions that your code detects.\n",
        "\n"
      ],
      "metadata": {
        "id": "O_vz1O1Dwq2D"
      }
    },
    {
      "cell_type": "markdown",
      "source": [
        "###25.Why is it important to use multithreading in certain applications?\n",
        "Multithreading can be important in applications where there are tasks that can run concurrently, particularly those that involve waiting for external operations (like network requests or file I/O). By using multiple threads, the application can remain responsive while one thread is waiting, allowing other tasks to proceed. This can lead to improved performance and a better user experience, especially in applications that are I/O-bound rather than CPU-bound"
      ],
      "metadata": {
        "id": "bvPfv2xSw51x"
      }
    },
    {
      "cell_type": "markdown",
      "source": [
        "## **Practical Questions**"
      ],
      "metadata": {
        "id": "4sryilyVxHQU"
      }
    },
    {
      "cell_type": "markdown",
      "source": [
        "###01. How can you open a file for writing in Python and write a string to it"
      ],
      "metadata": {
        "id": "G7R3U34uxzaf"
      }
    },
    {
      "cell_type": "code",
      "source": [
        "try:\n",
        "    with open(\"my_file.txt\", \"w\") as file:\n",
        "        my_string = \"Hello, this is the string I want to write.\\n\"\n",
        "        file.write(my_string)\n",
        "\n",
        "    print(\"String successfully written to my_file.txt\")\n",
        "\n",
        "except Exception as e:\n",
        "    print(f\"An error occurred: {e}\")"
      ],
      "metadata": {
        "colab": {
          "base_uri": "https://localhost:8080/"
        },
        "id": "adSlGhPgx7vw",
        "outputId": "13a6cf97-3989-422e-9643-4cf142346cf4"
      },
      "execution_count": 1,
      "outputs": [
        {
          "output_type": "stream",
          "name": "stdout",
          "text": [
            "String successfully written to my_file.txt\n"
          ]
        }
      ]
    },
    {
      "cell_type": "markdown",
      "source": [
        "###02. Write a Python program to read the contents of a file and print each line"
      ],
      "metadata": {
        "id": "qBO7PSpByOS7"
      }
    },
    {
      "cell_type": "code",
      "source": [
        "def read_and_print_file(filename):\n",
        "    try:\n",
        "        with open(filename, 'r') as file:\n",
        "            for line in file:\n",
        "                print(line.rstrip())\n",
        "    except FileNotFoundError:\n",
        "        print(f\"Error: File '{filename}' not found.\")\n",
        "    except Exception as e:\n",
        "        print(f\"An error occurred while reading the file: {e}\")\n",
        "\n",
        "if __name__ == \"__main__\":\n",
        "    filename = input(\"Enter the name of the file to read: \")\n",
        "    read_and_print_file(filename)\n"
      ],
      "metadata": {
        "colab": {
          "base_uri": "https://localhost:8080/"
        },
        "id": "UC0oKNfpyW_d",
        "outputId": "db241027-332c-48a1-fabc-a1431cc6a1d4"
      },
      "execution_count": 20,
      "outputs": [
        {
          "name": "stdout",
          "output_type": "stream",
          "text": [
            "Enter the name of the file to read: my_file.txt\n"
          ]
        }
      ]
    },
    {
      "cell_type": "markdown",
      "source": [
        "### 03.How would you handle a case where the file doesn't exist while trying to open it for reading"
      ],
      "metadata": {
        "id": "ZpRu4caIzmDq"
      }
    },
    {
      "cell_type": "code",
      "source": [
        "def read_and_print_file(filename):\n",
        "    try:\n",
        "        with open(filename, 'r') as file:\n",
        "            for line in file:\n",
        "                print(line.rstrip())\n",
        "    except FileNotFoundError:\n",
        "        print(f\"Error: File '{filename}' not found.\")\n",
        "    except Exception as e:\n",
        "        print(f\"An error occurred while reading the file: {e}\")\n",
        "\n",
        "if __name__ == \"__main__\":\n",
        "    filename = input(\"Enter the name of the file to read: \")\n",
        "    read_and_print_file(filename)\n"
      ],
      "metadata": {
        "colab": {
          "base_uri": "https://localhost:8080/"
        },
        "id": "9-wbgtI8z8PF",
        "outputId": "577b03b1-937d-4170-a8d9-4eda2363a889"
      },
      "execution_count": 18,
      "outputs": [
        {
          "name": "stdout",
          "output_type": "stream",
          "text": [
            "Enter the name of the file to read: my_file.txt\n"
          ]
        }
      ]
    },
    {
      "cell_type": "markdown",
      "source": [
        "###04. Write a Python script that reads from one file and writes its content to another file?"
      ],
      "metadata": {
        "id": "dCrp82rp0a9e"
      }
    },
    {
      "cell_type": "code",
      "source": [
        "def copy_file(source_file, destination_file):\n",
        "    try:\n",
        "        with open(source_file, 'r') as infile, open(destination_file, 'w') as outfile:\n",
        "            content = infile.read()\n",
        "            outfile.write(content)\n",
        "        print(f\"Content of '{source_file}' successfully copied to '{destination_file}'\")\n",
        "\n",
        "    except FileNotFoundError:\n",
        "        print(f\"Error: Source file '{source_file}' not found.\")\n",
        "    except Exception as e:\n",
        "        print(f\"An error occurred: {e}\")\n",
        "\n",
        "if __name__ == \"__main__\":\n",
        "    source_file = input(\"Enter the name of the source file: \")\n",
        "    destination_file = input(\"Enter the name of the destination file: \")\n",
        "    copy_file(source_file, destination_file)\n"
      ],
      "metadata": {
        "colab": {
          "base_uri": "https://localhost:8080/"
        },
        "id": "XWVemuFk0gtr",
        "outputId": "78d9143e-4b53-4b47-fe56-f88241816f72"
      },
      "execution_count": 17,
      "outputs": [
        {
          "output_type": "stream",
          "name": "stdout",
          "text": [
            "Enter the name of the source file: my_file.txt\n",
            "Enter the name of the destination file: my_file.txt\n",
            "Content of 'my_file.txt' successfully copied to 'my_file.txt'\n"
          ]
        }
      ]
    },
    {
      "cell_type": "markdown",
      "source": [
        "###05. How would you catch and handle division by zero error in Python\n"
      ],
      "metadata": {
        "id": "vH5m3td72bRj"
      }
    },
    {
      "cell_type": "code",
      "source": [
        "def divide(numerator, denominator):\n",
        "    try:\n",
        "        result = numerator / denominator\n",
        "        return result\n",
        "    except ZeroDivisionError:\n",
        "        print(\"Error: Division by zero is not allowed.\")\n",
        "        return None\n",
        "try:\n",
        "    num1 = float(input(\"Enter the numerator: \"))\n",
        "    num2 = float(input(\"Enter the denominator: \"))\n",
        "except ValueError:\n",
        "    print(\"Invalid input: Please enter numeric values.\")\n",
        "    exit()\n",
        "result = divide(num1, num2)\n",
        "if result is not None:\n",
        "    print(f\"{num1} / {num2} = {result}\")\n"
      ],
      "metadata": {
        "colab": {
          "base_uri": "https://localhost:8080/"
        },
        "id": "E-tuVlPe2qVh",
        "outputId": "eefbbcf6-1f8d-4f81-fb08-cd63e1a85674"
      },
      "execution_count": 8,
      "outputs": [
        {
          "output_type": "stream",
          "name": "stdout",
          "text": [
            "Enter the numerator: 16\n",
            "Enter the denominator: 04\n",
            "16.0 / 4.0 = 4.0\n"
          ]
        }
      ]
    },
    {
      "cell_type": "markdown",
      "source": [
        "###06. Write a Python program that logs an error message to a log file when a division by zero exception occurs"
      ],
      "metadata": {
        "id": "xYBo3ksm3GfO"
      }
    },
    {
      "cell_type": "code",
      "source": [
        "import logging\n",
        "logging.basicConfig(filename='division_errors.log', level=logging.ERROR,\n",
        "                    format='%(asctime)s - %(levelname)s - %(message)s')\n",
        "\n",
        "def divide(numerator, denominator):\n",
        "    try:\n",
        "        result = numerator / denominator\n",
        "        return result\n",
        "    except ZeroDivisionError:\n",
        "        logging.error(f\"Division by zero: numerator={numerator}, denominator={denominator}\")\n",
        "        print(\"Error: Division by zero is not allowed.\")\n",
        "        return None\n",
        "try:\n",
        "    num1 = float(input(\"Enter the numerator: \"))\n",
        "    num2 = float(input(\"Enter the denominator: \"))\n",
        "except ValueError:\n",
        "    print(\"Invalid input: Please enter numeric values.\")\n",
        "    exit()\n",
        "result = divide(num1, num2)\n",
        "if result is not None:\n",
        "    print(f\"{num1} / {num2} = {result}\")\n"
      ],
      "metadata": {
        "colab": {
          "base_uri": "https://localhost:8080/"
        },
        "id": "H2y1x55W3KhP",
        "outputId": "5d686109-2844-4789-aab8-d3a60009a326"
      },
      "execution_count": 10,
      "outputs": [
        {
          "name": "stdout",
          "output_type": "stream",
          "text": [
            "Enter the numerator: 3\n",
            "Enter the denominator: 0\n"
          ]
        },
        {
          "output_type": "stream",
          "name": "stderr",
          "text": [
            "ERROR:root:Division by zero: numerator=3.0, denominator=0.0\n"
          ]
        },
        {
          "output_type": "stream",
          "name": "stdout",
          "text": [
            "Error: Division by zero is not allowed.\n"
          ]
        }
      ]
    },
    {
      "cell_type": "markdown",
      "source": [
        "###07.How do you log information at different levels (INFO, ERROR, WARNING) in Python using the logging module"
      ],
      "metadata": {
        "id": "3JXy-WvW3p3w"
      }
    },
    {
      "cell_type": "code",
      "source": [
        "import logging\n",
        "logging.basicConfig(filename='division_errors.log', level=logging.INFO,\n",
        "                    format='%(asctime)s - %(levelname)s - %(message)s')\n",
        "\n",
        "def divide(numerator, denominator):\n",
        "    try:\n",
        "        logging.info(f\"Attempting division: numerator={numerator}, denominator={denominator}\")\n",
        "        result = numerator / denominator\n",
        "        return result\n",
        "    except ZeroDivisionError:\n",
        "        logging.error(f\"Division by zero: numerator={numerator}, denominator={denominator}\")\n",
        "        print(\"Error: Division by zero is not allowed.\")\n",
        "        return None\n",
        "    except Exception as e:\n",
        "        logging.warning(f\"An unexpected error occurred: {e}\")\n",
        "        return None\n",
        "\n",
        "try:\n",
        "    num1 = float(input(\"Enter the numerator: \"))\n",
        "    num2 = float(input(\"Enter the denominator: \"))\n",
        "except ValueError:\n",
        "    logging.error(\"Invalid input: Please enter numeric values.\")  # Log the error\n",
        "    print(\"Invalid input: Please enter numeric values.\")\n",
        "    exit()\n",
        "result = divide(num1, num2)\n",
        "\n",
        "if result is not None:\n",
        "    logging.info(f\"{num1} / {num2} = {result}\")\n",
        "    print(f\"{num1} / {num2} = {result}\")\n"
      ],
      "metadata": {
        "colab": {
          "base_uri": "https://localhost:8080/"
        },
        "id": "6G7rT1e132dv",
        "outputId": "4b61d2c6-a587-4e6d-963a-064e5f670ba1"
      },
      "execution_count": 12,
      "outputs": [
        {
          "output_type": "stream",
          "name": "stdout",
          "text": [
            "Enter the numerator: 77\n",
            "Enter the denominator: 6\n",
            "77.0 / 6.0 = 12.833333333333334\n"
          ]
        }
      ]
    },
    {
      "cell_type": "markdown",
      "source": [
        "###08.Write a program to handle a file opening error using exception handling?"
      ],
      "metadata": {
        "id": "v12jd78T4k1E"
      }
    },
    {
      "cell_type": "code",
      "source": [
        "def open_file_safely(filename):\n",
        "    try:\n",
        "\n",
        "        file = open(filename, 'r')\n",
        "        print(f\"File '{filename}' opened successfully.\")\n",
        "        return file\n",
        "    except FileNotFoundError:\n",
        "\n",
        "        print(f\"Error: File '{filename}' not found.\")\n",
        "        return None\n",
        "    except Exception as e:\n",
        "        print(f\"An error occurred while opening the file '{filename}': {e}\")\n",
        "        return None\n",
        "\n",
        "def read_file_content(file_object):\n",
        "\n",
        "    if file_object is not None:\n",
        "        try:\n",
        "            content = file_object.read()\n",
        "            print(\"File Content:\")\n",
        "            print(content)\n",
        "        except Exception as e:\n",
        "            print(f\"An error occurred while reading the file: {e}\")\n",
        "        finally:\n",
        "\n",
        "            file_object.close()\n",
        "            print(\"File closed.\")\n",
        "\n",
        "if __name__ == \"__main__\":\n",
        "\n",
        "    filename = input(\"Enter the name of the file to open: \")\n",
        "\n",
        "    file_handle = open_file_safely(filename)\n",
        "\n",
        "    if file_handle is not None:\n",
        "        read_file_content(file_handle)\n",
        "\n"
      ],
      "metadata": {
        "colab": {
          "base_uri": "https://localhost:8080/"
        },
        "id": "ueo4D_5W4xh1",
        "outputId": "2f704a2c-1f04-4d49-e80f-f17934540dd2"
      },
      "execution_count": 21,
      "outputs": [
        {
          "output_type": "stream",
          "name": "stdout",
          "text": [
            "Enter the name of the file to open: my_file.txt\n",
            "File 'my_file.txt' opened successfully.\n",
            "File Content:\n",
            "\n",
            "File closed.\n"
          ]
        }
      ]
    },
    {
      "cell_type": "markdown",
      "source": [
        "###09. How can you read a file line by line and store its content in a list in Python"
      ],
      "metadata": {
        "id": "5V_f5QUU6Svp"
      }
    },
    {
      "cell_type": "code",
      "source": [
        "def read_file_to_list(filename):\n",
        "    lines = []\n",
        "    try:\n",
        "        with open(filename, 'r') as file:\n",
        "            for line in file:\n",
        "\n",
        "                lines.append(line.strip())\n",
        "        return lines\n",
        "    except FileNotFoundError:\n",
        "        print(f\"Error: File '{filename}' not found.\")\n",
        "        return None\n",
        "    except Exception as e:\n",
        "        print(f\"An error occurred while reading the file: {e}\")\n",
        "        return None\n",
        "\n",
        "if __name__ == \"__main__\":\n",
        "    filename = \"my_file.txt\"\n",
        "    lines = read_file_to_list(filename)\n",
        "\n",
        "    if lines:\n",
        "        print(f\"Content of '{filename}' stored in a list:\")\n",
        "        for i, line in enumerate(lines):\n",
        "            print(f\"Line {i+1}: {line}\")\n"
      ],
      "metadata": {
        "id": "zL5yyjSY6X60"
      },
      "execution_count": 24,
      "outputs": []
    },
    {
      "cell_type": "markdown",
      "source": [
        "###10. How can you append data to an existing file in Python"
      ],
      "metadata": {
        "id": "wkcpa92U6pVi"
      }
    },
    {
      "cell_type": "code",
      "source": [
        "def append_to_file(filename, data):\n",
        "    try:\n",
        "        with open(filename, 'a') as file:\n",
        "\n",
        "            file.write(data)\n",
        "        print(f\"Data successfully appended to '{filename}'\")\n",
        "    except Exception as e:\n",
        "        print(f\"An error occurred while appending to the file: {e}\")\n",
        "\n",
        "if __name__ == \"__main__\":\n",
        "    filename = \"my_file.txt\"\n",
        "    data_to_append = \"This is the new data to add.\\n\"\n",
        "    try:\n",
        "        with open(filename, 'x') as f:\n",
        "            f.write(\"Initial content.\\n\")\n",
        "    except FileExistsError:\n",
        "        pass\n",
        "\n",
        "    append_to_file(filename, data_to_append)\n",
        "    print(\"\\nContent of the file after appending:\")\n",
        "    try:\n",
        "        with open(filename, 'r') as file:\n",
        "            print(file.read())\n",
        "    except Exception as e:\n",
        "        print(f\"An error occurred while reading the file: {e}\")\n"
      ],
      "metadata": {
        "colab": {
          "base_uri": "https://localhost:8080/"
        },
        "id": "l9iYZ8Ra6w7b",
        "outputId": "321e3388-bdf6-4e96-d252-877ad6ec668f"
      },
      "execution_count": 25,
      "outputs": [
        {
          "output_type": "stream",
          "name": "stdout",
          "text": [
            "Data successfully appended to 'my_file.txt'\n",
            "\n",
            "Content of the file after appending:\n",
            "This is the new data to add.\n",
            "\n"
          ]
        }
      ]
    },
    {
      "cell_type": "markdown",
      "source": [
        "###11.Write a Python program that uses a try-except block to handle an error when attempting to access a dictionary key that doesn't exist?"
      ],
      "metadata": {
        "id": "8Q6KjTnA7RuD"
      }
    },
    {
      "cell_type": "code",
      "source": [
        "def access_dictionary_key(my_dict, key):\n",
        "    try:\n",
        "        value = my_dict[key]\n",
        "        print(f\"Value for key '{key}': {value}\")\n",
        "    except KeyError:\n",
        "        print(f\"Error: Key '{key}' not found in the dictionary.\")\n",
        "    except Exception as e:\n",
        "        print(f\"An unexpected error occurred: {e}\")\n",
        "if __name__ == \"__main__\":\n",
        "    my_dictionary = {\n",
        "        \"name\": \"Alice\",\n",
        "        \"age\": 30,\n",
        "        \"city\": \"New York\"\n",
        "    }\n",
        "    access_dictionary_key(my_dictionary, \"name\")\n",
        "\n",
        "\n",
        "    access_dictionary_key(my_dictionary, 123)\n",
        "\n",
        "    access_dictionary_key(my_dictionary, \"name\")\n",
        "\n",
        "    access_dictionary_key(my_dictionary, \"job\")\n",
        "\n",
        "    access_dictionary_key(my_dictionary, 123)\n"
      ],
      "metadata": {
        "colab": {
          "base_uri": "https://localhost:8080/"
        },
        "id": "IFMoN-rD7d3L",
        "outputId": "1cb0d1c0-66fd-4b3d-a82e-3b45d93418e8"
      },
      "execution_count": 26,
      "outputs": [
        {
          "output_type": "stream",
          "name": "stdout",
          "text": [
            "Value for key 'name': Alice\n",
            "Error: Key '123' not found in the dictionary.\n",
            "Value for key 'name': Alice\n",
            "Error: Key 'job' not found in the dictionary.\n",
            "Error: Key '123' not found in the dictionary.\n"
          ]
        }
      ]
    },
    {
      "cell_type": "markdown",
      "source": [
        "###12. Write a program that demonstrates using multiple except blocks to handle different types of exceptions?"
      ],
      "metadata": {
        "id": "xW1SrUEE747W"
      }
    },
    {
      "cell_type": "code",
      "source": [
        "def process_data(data):\n",
        "    results = []\n",
        "    for item in data:\n",
        "        try:\n",
        "            value = float(item)\n",
        "            result = 10 / value\n",
        "            results.append(result)\n",
        "            print(f\"Processed {item}, result: {result}\")\n",
        "        except ValueError:\n",
        "\n",
        "            print(f\"Error: Invalid data format - '{item}' cannot be converted to a number.\")\n",
        "            results.append(None)\n",
        "        except ZeroDivisionError:\n",
        "\n",
        "            print(f\"Error: Cannot divide by zero (item was '{item}')\")\n",
        "            results.append(None)\n",
        "        except TypeError:\n",
        "\n",
        "            print(f\"Error:  Unsupported type  (item was '{item}')\")\n",
        "            results.append(None)\n",
        "        except Exception as e:\n",
        "\n",
        "            print(f\"An unexpected error occurred while processing '{item}': {e}\")\n",
        "            results.append(None)\n",
        "    return results\n",
        "\n",
        "if __name__ == \"__main__\":\n",
        "\n",
        "    data_list = [10, 2, 0, \"5\", \"abc\", None, 20, -5, 0.5]\n",
        "\n",
        "    results = process_data(data_list)\n",
        "    print(\"\\nResults of processing:\")\n",
        "    print(results)\n"
      ],
      "metadata": {
        "colab": {
          "base_uri": "https://localhost:8080/"
        },
        "id": "G3IeyOIJ8F4N",
        "outputId": "244df32d-1ff0-441e-d982-5bac1e04bb1a"
      },
      "execution_count": 27,
      "outputs": [
        {
          "output_type": "stream",
          "name": "stdout",
          "text": [
            "Processed 10, result: 1.0\n",
            "Processed 2, result: 5.0\n",
            "Error: Cannot divide by zero (item was '0')\n",
            "Processed 5, result: 2.0\n",
            "Error: Invalid data format - 'abc' cannot be converted to a number.\n",
            "Error:  Unsupported type  (item was 'None')\n",
            "Processed 20, result: 0.5\n",
            "Processed -5, result: -2.0\n",
            "Processed 0.5, result: 20.0\n",
            "\n",
            "Results of processing:\n",
            "[1.0, 5.0, None, 2.0, None, None, 0.5, -2.0, 20.0]\n"
          ]
        }
      ]
    },
    {
      "cell_type": "markdown",
      "source": [
        "###13. How would you check if a file exists before attempting to read it in Python?"
      ],
      "metadata": {
        "id": "usdrnlgW8b9C"
      }
    },
    {
      "cell_type": "code",
      "source": [
        "import os\n",
        "\n",
        "def read_file_if_exists(filename):\n",
        "    if os.path.exists(filename):\n",
        "        try:\n",
        "            with open(filename, 'r') as file:\n",
        "\n",
        "                content = file.read()\n",
        "                print(f\"Content of '{filename}':\\n{content}\")\n",
        "        except Exception as e:\n",
        "\n",
        "            print(f\"An error occurred while reading the file: {e}\")\n",
        "    else:\n",
        "        print(f\"Error: File '{filename}' does not exist.\")\n",
        "\n",
        "if __name__ == \"__main__\":\n",
        "    filename = input(\"Enter the name of the file to read: \")\n",
        "    read_file_if_exists(filename)\n"
      ],
      "metadata": {
        "colab": {
          "base_uri": "https://localhost:8080/"
        },
        "id": "Dg8EOMN48lBS",
        "outputId": "4ff91d95-d77c-4269-b58b-5bdffcb09ec5"
      },
      "execution_count": 28,
      "outputs": [
        {
          "output_type": "stream",
          "name": "stdout",
          "text": [
            "Enter the name of the file to read: my_file.txt\n",
            "Content of 'my_file.txt':\n",
            "This is the new data to add.\n",
            "\n"
          ]
        }
      ]
    },
    {
      "cell_type": "markdown",
      "source": [
        "###14. Write a program that uses the logging module to log both informational and error messages?"
      ],
      "metadata": {
        "id": "qlGNz34F9Bjr"
      }
    },
    {
      "cell_type": "code",
      "source": [
        "import os\n",
        "import logging\n",
        "\n",
        "logging.basicConfig(filename='file_operations.log', level=logging.INFO,\n",
        "                    format='%(asctime)s - %(levelname)s - %(message)s')\n",
        "\n",
        "def read_file_if_exists(filename):\n",
        "\n",
        "    logging.info(f\"Checking if file '{filename}' exists.\")\n",
        "    if os.path.exists(filename):\n",
        "        logging.info(f\"File '{filename}' exists. Attempting to read.\")\n",
        "        try:\n",
        "\n",
        "            with open(filename, 'r') as file:\n",
        "\n",
        "                content = file.read()\n",
        "                print(f\"Content of '{filename}':\\n{content}\")\n",
        "                logging.info(f\"File '{filename}' successfully read.\")\n",
        "                logging.info(f\"Read {len(content)} characters from file '{filename}'.\")\n",
        "        except Exception as e:\n",
        "\n",
        "            logging.error(f\"An error occurred while reading the file '{filename}': {e}\")\n",
        "            print(f\"An error occurred while reading the file: {e}\")\n",
        "    else:\n",
        "\n",
        "        logging.warning(f\"File '{filename}' does not exist.\")\n",
        "        print(f\"Error: File '{filename}' does not exist.\")\n",
        "    logging.info(f\"Finished processing file '{filename}'.\")\n",
        "\n",
        "if __name__ == \"__main__\":\n",
        "\n",
        "    filename = input(\"Enter the name of the file to read: \")\n",
        "    read_file_if_exists(filename)\n"
      ],
      "metadata": {
        "colab": {
          "base_uri": "https://localhost:8080/"
        },
        "id": "BYLcf5ZW9Ie5",
        "outputId": "ffc6b038-033e-4514-a56f-39df41a535ff"
      },
      "execution_count": 29,
      "outputs": [
        {
          "output_type": "stream",
          "name": "stdout",
          "text": [
            "Enter the name of the file to read: my_file.txt\n",
            "Content of 'my_file.txt':\n",
            "This is the new data to add.\n",
            "\n"
          ]
        }
      ]
    },
    {
      "cell_type": "markdown",
      "source": [
        "###15.Write a Python program that prints the content of a file and handles the case when the file is empty?"
      ],
      "metadata": {
        "id": "16ieovUm94m9"
      }
    },
    {
      "cell_type": "code",
      "source": [
        "def print_file_content(filename):\n",
        "\n",
        "    try:\n",
        "        with open(filename, 'r') as file:\n",
        "            content = file.read()\n",
        "            if not content:\n",
        "                print(f\"The file '{filename}' is empty.\")\n",
        "            else:\n",
        "                print(f\"Content of '{filename}':\")\n",
        "                print(content)\n",
        "    except FileNotFoundError:\n",
        "        print(f\"Error: The file '{filename}' was not found.\")\n",
        "    except Exception as e:\n",
        "        print(f\"An error occurred while reading the file: {e}\")\n",
        "\n",
        "def main():\n",
        "\n",
        "    filename = input(\"Enter the name of the file to read: \")\n",
        "    print_file_content(filename)\n",
        "\n",
        "if __name__ == \"__main__\":\n",
        "    main()\n"
      ],
      "metadata": {
        "colab": {
          "base_uri": "https://localhost:8080/"
        },
        "id": "-wkG_F5j9-_b",
        "outputId": "95202451-196a-438d-b419-d53b2aa67415"
      },
      "execution_count": 35,
      "outputs": [
        {
          "output_type": "stream",
          "name": "stdout",
          "text": [
            "Enter the name of the file to read: \n",
            "Error: The file '' was not found.\n"
          ]
        }
      ]
    },
    {
      "cell_type": "markdown",
      "source": [
        "###17.Write a Python program to create and write a list of numbers to a file, one number per line?"
      ],
      "metadata": {
        "id": "u5q9FYHS_oOX"
      }
    },
    {
      "cell_type": "code",
      "source": [
        "def write_numbers_to_file(numbers, filename=\"numbers.txt\"):\n",
        "    try:\n",
        "        with open(filename, 'w') as file:\n",
        "            for number in numbers:\n",
        "                file.write(str(number) + '\\n')\n",
        "        print(f\"Successfully wrote {len(numbers)} numbers to {filename}\")\n",
        "    except Exception as e:\n",
        "        print(f\"An error occurred while writing to the file: {e}\")\n",
        "\n",
        "def main():\n",
        "    numbers = [1, 2, 3, 4, 5, 10, 20, 30, 100, 1000, 3.14, 2.718, -5, -10.5]\n",
        "\n",
        "    filename = \"my_numbers.txt\"\n",
        "    write_numbers_to_file(numbers, filename)\n",
        "\n",
        "    print(f\"Check the file '{filename}' in the same directory as this script.\")\n",
        "\n",
        "if __name__ == \"__main__\":\n",
        "    main()\n"
      ],
      "metadata": {
        "colab": {
          "base_uri": "https://localhost:8080/"
        },
        "id": "wioRGDnzAK3h",
        "outputId": "c724b9b0-9000-4186-e76f-7a7b1e054d72"
      },
      "execution_count": 38,
      "outputs": [
        {
          "output_type": "stream",
          "name": "stdout",
          "text": [
            "Successfully wrote 14 numbers to my_numbers.txt\n",
            "Check the file 'my_numbers.txt' in the same directory as this script.\n"
          ]
        }
      ]
    },
    {
      "cell_type": "markdown",
      "source": [
        "###19. Write a program that handles both IndexError and KeyError using a try-except block?"
      ],
      "metadata": {
        "id": "FsqdaGGcA_mZ"
      }
    },
    {
      "cell_type": "code",
      "source": [
        "def handle_errors():\n",
        "    my_list = [10, 20, 30]\n",
        "    my_dict = {'a': 1, 'b': 2}\n",
        "\n",
        "    try:\n",
        "        print(\"List item:\", my_list[5])\n",
        "\n",
        "        print(\"Dictionary value:\", my_dict['z'])\n",
        "\n",
        "    except IndexError:\n",
        "        print(\"Caught an IndexError: List index out of range.\")\n",
        "\n",
        "    except KeyError:\n",
        "        print(\"Caught a KeyError: Key not found in dictionary.\")\n",
        "\n",
        "handle_errors()\n"
      ],
      "metadata": {
        "colab": {
          "base_uri": "https://localhost:8080/"
        },
        "id": "pjxA4wF1BDJk",
        "outputId": "0f7718cc-3d6f-4b36-be09-94c5f71cb69f"
      },
      "execution_count": 40,
      "outputs": [
        {
          "output_type": "stream",
          "name": "stdout",
          "text": [
            "Caught an IndexError: List index out of range.\n"
          ]
        }
      ]
    },
    {
      "cell_type": "markdown",
      "source": [
        "###20. How would you open a file and read its contents using a context manager in Python?"
      ],
      "metadata": {
        "id": "pFfE_wO3CNHp"
      }
    },
    {
      "cell_type": "code",
      "source": [
        "with open('my_file.txt', 'r') as file:\n",
        "    contents = file.read()\n",
        "    print(contents)\n"
      ],
      "metadata": {
        "colab": {
          "base_uri": "https://localhost:8080/"
        },
        "id": "tCZ76J8vCGmz",
        "outputId": "eb3d132b-7f06-4a2b-a8e8-d0626ba9aa53"
      },
      "execution_count": 42,
      "outputs": [
        {
          "output_type": "stream",
          "name": "stdout",
          "text": [
            "This is the new data to add.\n",
            "\n"
          ]
        }
      ]
    },
    {
      "cell_type": "markdown",
      "source": [
        "###21. Write a Python program that reads a file and prints the number of occurrences of a specific word?"
      ],
      "metadata": {
        "id": "yk6y4BnlCdct"
      }
    },
    {
      "cell_type": "code",
      "source": [
        "def count_word_occurrences(filename, target_word):\n",
        "    try:\n",
        "        with open(filename, 'r') as file:\n",
        "            contents = file.read().lower()\n",
        "            word_count = contents.split().count(target_word.lower())\n",
        "            print(f\"The word '{target_word}' occurs {word_count} times in '{filename}'.\")\n",
        "    except FileNotFoundError:\n",
        "        print(f\"Error: The file '{filename}' was not found.\")\n",
        "    except Exception as e:\n",
        "        print(f\"An error occurred: {e}\")\n",
        "\n",
        "filename = 'my_file.txt'\n",
        "word_to_count = 'add'\n",
        "count_word_occurrences(filename, word_to_count)\n"
      ],
      "metadata": {
        "colab": {
          "base_uri": "https://localhost:8080/"
        },
        "id": "ZxNhuixFCn6Q",
        "outputId": "ae727ba7-7fbc-48ed-ff60-142b6f369119"
      },
      "execution_count": 45,
      "outputs": [
        {
          "output_type": "stream",
          "name": "stdout",
          "text": [
            "The word 'add' occurs 0 times in 'my_file.txt'.\n"
          ]
        }
      ]
    },
    {
      "cell_type": "markdown",
      "source": [
        "###22.How can you check if a file is empty before attempting to read its contents?"
      ],
      "metadata": {
        "id": "ylJnVcwgDGpq"
      }
    },
    {
      "cell_type": "code",
      "source": [
        "import os\n",
        "\n",
        "filename = 'example.txt'\n",
        "\n",
        "# Check if file exists and is not empty\n",
        "if os.path.exists(filename):\n",
        "    if os.path.getsize(filename) > 0:\n",
        "        with open(filename, 'r') as file:\n",
        "            contents = file.read()\n",
        "            print(contents)\n",
        "    else:\n",
        "        print(\"The file is empty.\")\n",
        "else:\n",
        "    print(\"The file does not exist.\")\n"
      ],
      "metadata": {
        "colab": {
          "base_uri": "https://localhost:8080/"
        },
        "id": "gZG6PuI3DWjd",
        "outputId": "b0e58369-40cd-4157-c8f3-3d068d4c4b68"
      },
      "execution_count": 47,
      "outputs": [
        {
          "output_type": "stream",
          "name": "stdout",
          "text": [
            "The file does not exist.\n"
          ]
        }
      ]
    },
    {
      "cell_type": "markdown",
      "source": [
        "###23. Write a Python program that writes to a log file when an error occurs during file handling."
      ],
      "metadata": {
        "id": "jlSxZY_BDZb3"
      }
    },
    {
      "cell_type": "code",
      "source": [
        "import logging\n",
        "\n",
        "logging.basicConfig(\n",
        "    filename='error_log.txt',\n",
        "    level=logging.ERROR,\n",
        "    format='%(asctime)s - %(levelname)s - %(message)s'\n",
        ")\n",
        "\n",
        "def read_file(filename):\n",
        "    try:\n",
        "        with open(filename, 'r') as file:\n",
        "            contents = file.read()\n",
        "            print(contents)\n",
        "    except Exception as e:\n",
        "        logging.error(f\"Failed to read file '{filename}': {e}\")\n",
        "        print(\"An error occurred. Check the log file for details.\")\n",
        "\n",
        "read_file('my_file.txt')\n"
      ],
      "metadata": {
        "colab": {
          "base_uri": "https://localhost:8080/"
        },
        "id": "BKv3q-t_DmQY",
        "outputId": "6593255c-1f11-4dbc-cdee-5bd6c6b0b92f"
      },
      "execution_count": 49,
      "outputs": [
        {
          "output_type": "stream",
          "name": "stdout",
          "text": [
            "This is the new data to add.\n",
            "\n"
          ]
        }
      ]
    }
  ]
}